{
 "cells": [
  {
   "cell_type": "markdown",
   "metadata": {},
   "source": [
    "Word embeddings are a neural network's representation of the relationships between words. A network that has seen,\n",
    "say, 20 billion words in English and a bunch of other languages often has a lot to say about what words are all about.\n",
    "A word embedding takes the form of giant matrix,\n",
    "which sounds a bit boring, but what's neat is that every row of the matrix represents a word \n",
    "as a vector of real numbers.\n",
    "\n",
    "With this vector you can compare words in nifty ways. Computing the cosine of the angle between two vectors \n",
    "gives the cosine similarity score, which maxes out at 1 if the vectors have the same direction and gets lower as the angle between the vectors increases:\n",
    "\n",
    "$$\\cos(\\theta) = \\frac{x \\cdot y}{||x|| \\space||y||}$$\n",
    "\n",
    "## Riding English\n",
    "Using this metric you can choose an arbitrary vector and find the words closest to it, on whatever dimensions you want.\n",
    "This vector could be a word, or something you calculate yourself. Let's look up the nearest neighbors to \"English\" in a \n",
    "200-dimensional GloVe embedding trained on 27 billion words from Twitter (available from the GloVe creators):\n"
   ]
  },
  {
   "cell_type": "code",
   "execution_count": 1,
   "metadata": {
    "collapsed": false
   },
   "outputs": [
    {
     "name": "stdout",
     "output_type": "stream",
     "text": [
      "english\n",
      "spanish\n",
      "language\n",
      "math\n",
      "french\n",
      "speaking\n",
      "class\n",
      "arabic\n",
      "exam\n",
      "essay\n"
     ]
    }
   ],
   "source": [
    "# load word vectors\n",
    "import os\n",
    "import urllib2\n",
    "import zipfile\n",
    "import numpy as np\n",
    "from miniglove import Glove\n",
    "\n",
    "myglove = Glove()\n",
    "glove_folder = \"downloads\"\n",
    "glove_path = os.path.join(glove_folder, \"glove.twitter.27B.200d.txt\")\n",
    "# Download if necessary (big)\n",
    "if not os.path.isfile(glove_path):\n",
    "    print(\"Downloading pretrained GloVe\")\n",
    "    if not os.path.isdir(glove_folder):\n",
    "        os.makedirs(glove_folder)\n",
    "    with open(\"downloads/glove.zip\", \"wb\") as glove_zip:\n",
    "        glove_url = \"http://nlp.stanford.edu/data/glove.twitter.27B.zip\"\n",
    "        glove_data = urllib2.urlopen(glove_url)\n",
    "        glove_zip.write(glove_data.read())\n",
    "    print(\"Downloaded.\\nExtracting...\")\n",
    "    glove_zip = zipfile.ZipFile(\"downloads/glove.zip\", \"r\")\n",
    "    glove_zip.extractall(glove_folder)\n",
    "    glove_zip.close()\n",
    "    print(\"Extracted\")\n",
    "myglove.load_glove(glove_path, gz=False)\n",
    "near_words = [i[0] for i in myglove.get_nearest('english')]\n",
    "for wd in near_words:\n",
    "    print wd"
   ]
  },
  {
   "cell_type": "markdown",
   "metadata": {
    "collapsed": true
   },
   "source": [
    "This example shows some of the diversity in relationships that a word embedding model can represent. The relationship\n",
    "between _English_ and _Spanish_ is different than the relationship between _English_ and _language_. It also points up some of the shortcomings of the model, as the kind of _English_ that is related to _math_, _class_, and _exam_ is a different word sense than the _English_ that is related to _language_ and _speaking_."
   ]
  },
  {
   "cell_type": "markdown",
   "metadata": {},
   "source": [
    "A lot of ink has already been spilled on how and why GloVe and word2vec encode semantic and syntactic content of words. What I'd like to point out is the extent to which they also encode\n",
    "*stylistic* relationships as well, even across semantically and syntactically diverse contexts."
   ]
  },
  {
   "cell_type": "markdown",
   "metadata": {},
   "source": [
    "Twitter data provides a nice playground for this because it plays host to many different styles and varieties of English. "
   ]
  },
  {
   "cell_type": "code",
   "execution_count": 8,
   "metadata": {
    "collapsed": false
   },
   "outputs": [
    {
     "name": "stdout",
     "output_type": "stream",
     "text": [
      "[(u'cat', 1.0000000000000002), (u'dog', 0.83243026697337774), (u'cats', 0.76851845026425081), (u'kitty', 0.75044559650017162), (u'kitten', 0.74896981271733654), (u'pet', 0.73198618323283737), (u'puppy', 0.70231925278655516), (u'dogs', 0.70163820992334303), (u'animal', 0.6421107261361646), (u'bear', 0.63091854794411106)]\n",
      "<type 'str'>\n"
     ]
    },
    {
     "ename": "KeyError",
     "evalue": "'piccolo'",
     "output_type": "error",
     "traceback": [
      "\u001b[1;31m---------------------------------------------------------------------------\u001b[0m",
      "\u001b[1;31mKeyError\u001b[0m                                  Traceback (most recent call last)",
      "\u001b[1;32m<ipython-input-8-ec8dd510f853>\u001b[0m in \u001b[0;36m<module>\u001b[1;34m()\u001b[0m\n\u001b[0;32m      3\u001b[0m \u001b[0mcat\u001b[0m \u001b[1;33m=\u001b[0m \u001b[0mmyglove\u001b[0m\u001b[1;33m.\u001b[0m\u001b[0mget_vec\u001b[0m\u001b[1;33m(\u001b[0m\u001b[1;34m\"cat\"\u001b[0m\u001b[1;33m)\u001b[0m\u001b[1;33m\u001b[0m\u001b[0m\n\u001b[0;32m      4\u001b[0m \u001b[1;32mprint\u001b[0m \u001b[0mmyglove\u001b[0m\u001b[1;33m.\u001b[0m\u001b[0mnearest_to_vec\u001b[0m\u001b[1;33m(\u001b[0m\u001b[0mcat\u001b[0m\u001b[1;33m)\u001b[0m\u001b[1;33m\u001b[0m\u001b[0m\n\u001b[1;32m----> 5\u001b[1;33m \u001b[0mmyglove\u001b[0m\u001b[1;33m[\u001b[0m\u001b[0mmyglove\u001b[0m\u001b[1;33m[\u001b[0m\u001b[1;34m'piccolo'\u001b[0m\u001b[1;33m]\u001b[0m \u001b[1;33m-\u001b[0m \u001b[0mmyglove\u001b[0m\u001b[1;33m[\u001b[0m\u001b[1;34m'flute'\u001b[0m\u001b[1;33m]\u001b[0m \u001b[1;33m+\u001b[0m \u001b[0mmyglove\u001b[0m\u001b[1;33m[\u001b[0m\u001b[1;34m'drum'\u001b[0m\u001b[1;33m]\u001b[0m\u001b[1;33m]\u001b[0m\u001b[1;33m\u001b[0m\u001b[0m\n\u001b[0m",
      "\u001b[1;32m/media/patrick/F350-44E1/Dropbox/ongoing/glove_twitter/miniglove.py\u001b[0m in \u001b[0;36m__getitem__\u001b[1;34m(self, key)\u001b[0m\n\u001b[0;32m     74\u001b[0m         \u001b[1;32mif\u001b[0m \u001b[0mtype\u001b[0m\u001b[1;33m(\u001b[0m\u001b[0mkey\u001b[0m\u001b[1;33m)\u001b[0m \u001b[1;32min\u001b[0m \u001b[1;33m(\u001b[0m\u001b[0municode\u001b[0m\u001b[1;33m,\u001b[0m \u001b[0mstr\u001b[0m\u001b[1;33m)\u001b[0m\u001b[1;33m:\u001b[0m\u001b[1;33m\u001b[0m\u001b[0m\n\u001b[0;32m     75\u001b[0m             \u001b[1;32mreturn\u001b[0m \u001b[0mself\u001b[0m\u001b[1;33m.\u001b[0m\u001b[0mget_vec\u001b[0m\u001b[1;33m(\u001b[0m\u001b[0mkey\u001b[0m\u001b[1;33m)\u001b[0m\u001b[1;33m\u001b[0m\u001b[0m\n\u001b[1;32m---> 76\u001b[1;33m         \u001b[1;32melif\u001b[0m \u001b[0mtype\u001b[0m\u001b[1;33m(\u001b[0m\u001b[0mkey\u001b[0m\u001b[1;33m)\u001b[0m \u001b[1;32min\u001b[0m \u001b[1;33m(\u001b[0m\u001b[0mfloat\u001b[0m\u001b[1;33m,\u001b[0m \u001b[0mnp\u001b[0m\u001b[1;33m.\u001b[0m\u001b[0mndarray\u001b[0m\u001b[1;33m)\u001b[0m\u001b[1;33m:\u001b[0m\u001b[1;33m\u001b[0m\u001b[0m\n\u001b[0m\u001b[0;32m     77\u001b[0m             \u001b[1;32mreturn\u001b[0m \u001b[0mself\u001b[0m\u001b[1;33m.\u001b[0m\u001b[0mnearest_to_vec\u001b[0m\u001b[1;33m(\u001b[0m\u001b[0mkey\u001b[0m\u001b[1;33m)\u001b[0m\u001b[1;33m\u001b[0m\u001b[0m\n\u001b[0;32m     78\u001b[0m         \u001b[1;32melse\u001b[0m\u001b[1;33m:\u001b[0m\u001b[1;33m\u001b[0m\u001b[0m\n",
      "\u001b[1;32m/media/patrick/F350-44E1/Dropbox/ongoing/glove_twitter/miniglove.py\u001b[0m in \u001b[0;36mget_vec\u001b[1;34m(self, wd)\u001b[0m\n\u001b[0;32m     65\u001b[0m \u001b[1;33m\u001b[0m\u001b[0m\n\u001b[0;32m     66\u001b[0m     \u001b[1;32mdef\u001b[0m \u001b[0mget_vec\u001b[0m\u001b[1;33m(\u001b[0m\u001b[0mself\u001b[0m\u001b[1;33m,\u001b[0m\u001b[0mwd\u001b[0m\u001b[1;33m)\u001b[0m\u001b[1;33m:\u001b[0m\u001b[1;33m\u001b[0m\u001b[0m\n\u001b[1;32m---> 67\u001b[1;33m         \u001b[1;32mreturn\u001b[0m \u001b[0mself\u001b[0m\u001b[1;33m.\u001b[0m\u001b[0mv\u001b[0m\u001b[1;33m[\u001b[0m\u001b[0mself\u001b[0m\u001b[1;33m.\u001b[0m\u001b[0mwd_to_i\u001b[0m\u001b[1;33m[\u001b[0m\u001b[0mwd\u001b[0m\u001b[1;33m]\u001b[0m\u001b[1;33m]\u001b[0m\u001b[1;33m\u001b[0m\u001b[0m\n\u001b[0m\u001b[0;32m     68\u001b[0m \u001b[1;33m\u001b[0m\u001b[0m\n\u001b[0;32m     69\u001b[0m     \u001b[1;32mdef\u001b[0m \u001b[0madd_2_minus_1\u001b[0m\u001b[1;33m(\u001b[0m\u001b[0mself\u001b[0m\u001b[1;33m,\u001b[0m \u001b[0mto_add\u001b[0m\u001b[1;33m,\u001b[0m \u001b[0mto_subtract\u001b[0m\u001b[1;33m)\u001b[0m\u001b[1;33m:\u001b[0m\u001b[1;33m\u001b[0m\u001b[0m\n",
      "\u001b[1;31mKeyError\u001b[0m: 'piccolo'"
     ]
    }
   ],
   "source": [
    "boy = myglove.get_vec(\"boy\")\n",
    "girl = myglove.get_vec(\"girl\")\n",
    "cat = myglove.get_vec(\"cat\")\n",
    "print myglove.nearest_to_vec(cat)\n",
    "myglove[myglove['piccolo'] - myglove['flute'] + myglove['drum']]"
   ]
  },
  {
   "cell_type": "code",
   "execution_count": null,
   "metadata": {
    "collapsed": true
   },
   "outputs": [],
   "source": []
  }
 ],
 "metadata": {
  "kernelspec": {
   "display_name": "Python 2",
   "language": "python",
   "name": "python2"
  },
  "language_info": {
   "codemirror_mode": {
    "name": "ipython",
    "version": 2
   },
   "file_extension": ".py",
   "mimetype": "text/x-python",
   "name": "python",
   "nbconvert_exporter": "python",
   "pygments_lexer": "ipython2",
   "version": "2.7.11+"
  }
 },
 "nbformat": 4,
 "nbformat_minor": 0
}
